{
 "cells": [
  {
   "cell_type": "markdown",
   "id": "29a0c5d4",
   "metadata": {},
   "source": [
    "# Table of Contents\n",
    "\n",
    "- [Determining the Di-Muon Invarient Mass](#determining-the-di-muon-invarient-mass)\n",
    "  - [Introduction](#introduction)\n",
    "  - [Data Acquisition](#data-acquisition)\n",
    "  - [Data Analysis](#data-analysis)\n",
    "  - [Explanation](#explanation)\n",
    "    - [Timing](#timing)\n",
    "    - [Loop Over Events](#loop-over-events)\n",
    "    - [Muon Charge and Multiplicity Checks](#muon-charge-and-multiplicity-checks)\n",
    "    - [Get Kinematics](#get-kinematics)\n",
    "    - [Build Lorentz Vectors](#build-lorentz-vectors)\n",
    "    - [Calculate the Invarient Mass](#calculate-the-invarient-mass)\n",
    "  - [Viewing the Four Momentum](#viewing-the-four-momentum)\n",
    "  - [Plotting the Mass Spectrum](#plotting-the-mass-spectrum)\n",
    "  - [Conclusion](#conclusion)\n"
   ]
  },
  {
   "cell_type": "markdown",
   "id": "8a8e9bc8",
   "metadata": {},
   "source": [
    "# Determining the Di-Muon Invarient Mass\n",
    "## Introduction \n",
    "\n",
    "In this project, we analyze data from the CMS Open Data to study the production of muon pairs in high-energy proton–proton collisions at the LHC. Using ROOT and PyROOT, we reconstruct the invariant mass distribution of dimuon events. The invariant mass spectrum provides direct insight into the presence of intermediate resonances, such as the $J/\\psi, \\Upsilon,$ and the $Z$ boson, which decay into muon pairs $(\\mu^+ \\mu^-)$.\n",
    "\n",
    "This exercise demonstrates how experimental high-energy physics identifies particles through their decay signatures, and how statistical patterns in collision data reveal fundamental properties of matter.\n",
    "\n",
    "## Data Acquisition\n",
    "\n",
    "For this analysis, we use the DoubleMuParked dataset from 2012. Specifically, we download the file **\"Run2012BC_DoubleMuParked_Muons.root\"** from the CERN Open Data portal. This file contains muon‐pair events collected during Runs 2012B and 2012C at the LHC, focusing on “parked” double‐muon triggers. It serves as the raw data input for our dimuon invariant mass reconstruction. Download the ROOT file via the provided link.\n",
    "\n",
    "Link: https://opendata.cern.ch/record/12341/files/Run2012BC_DoubleMuParked_Muons.root"
   ]
  },
  {
   "cell_type": "markdown",
   "id": "527931b3",
   "metadata": {},
   "source": [
    "## Data Analysis"
   ]
  },
  {
   "cell_type": "code",
   "execution_count": 2,
   "id": "9b25b36b",
   "metadata": {},
   "outputs": [],
   "source": [
    "import ROOT\n",
    "import numpy as np\n",
    "%jsroot off"
   ]
  },
  {
   "cell_type": "code",
   "execution_count": 3,
   "id": "a29e7941",
   "metadata": {},
   "outputs": [
    {
     "ename": "OSError",
     "evalue": "Failed to open file Run2012BC_DoubleMuParked_Muons.root",
     "output_type": "error",
     "traceback": [
      "\u001b[0;31m---------------------------------------------------------------------------\u001b[0m",
      "\u001b[0;31mOSError\u001b[0m                                   Traceback (most recent call last)",
      "Cell \u001b[0;32mIn[3], line 3\u001b[0m\n\u001b[1;32m      1\u001b[0m \u001b[38;5;28;01mfrom\u001b[39;00m\u001b[38;5;250m \u001b[39m\u001b[38;5;21;01mROOT\u001b[39;00m\u001b[38;5;250m \u001b[39m\u001b[38;5;28;01mimport\u001b[39;00m TFile, TH1D\n\u001b[0;32m----> 3\u001b[0m file \u001b[38;5;241m=\u001b[39m \u001b[43mTFile\u001b[49m\u001b[43m(\u001b[49m\u001b[38;5;124;43m\"\u001b[39;49m\u001b[38;5;124;43mRun2012BC_DoubleMuParked_Muons.root\u001b[39;49m\u001b[38;5;124;43m\"\u001b[39;49m\u001b[43m,\u001b[49m\u001b[38;5;124;43m\"\u001b[39;49m\u001b[38;5;124;43mREAD\u001b[39;49m\u001b[38;5;124;43m\"\u001b[39;49m\u001b[43m)\u001b[49m\n\u001b[1;32m      4\u001b[0m tree \u001b[38;5;241m=\u001b[39m file\u001b[38;5;241m.\u001b[39mGet(\u001b[38;5;124m\"\u001b[39m\u001b[38;5;124mEvents\u001b[39m\u001b[38;5;124m\"\u001b[39m)   \u001b[38;5;66;03m# Access the TTree named \"Events\"\u001b[39;00m\n\u001b[1;32m      6\u001b[0m Hist \u001b[38;5;241m=\u001b[39m TH1D(\u001b[38;5;124m'\u001b[39m\u001b[38;5;124mh\u001b[39m\u001b[38;5;124m'\u001b[39m,\u001b[38;5;124m'\u001b[39m\u001b[38;5;124mh\u001b[39m\u001b[38;5;124m'\u001b[39m, \u001b[38;5;241m30000\u001b[39m, \u001b[38;5;241m0.25\u001b[39m, \u001b[38;5;241m160\u001b[39m)\n",
      "File \u001b[0;32m~/anaconda3/envs/pyrootenv/lib/python3.10/site-packages/ROOT/_pythonization/_tfile.py:79\u001b[0m, in \u001b[0;36m_TFileConstructor\u001b[0;34m(self, *args)\u001b[0m\n\u001b[1;32m     77\u001b[0m \u001b[38;5;28;01mif\u001b[39;00m \u001b[38;5;28mlen\u001b[39m(args) \u001b[38;5;241m>\u001b[39m\u001b[38;5;241m=\u001b[39m \u001b[38;5;241m1\u001b[39m:\n\u001b[1;32m     78\u001b[0m     \u001b[38;5;28;01mif\u001b[39;00m \u001b[38;5;28mself\u001b[39m\u001b[38;5;241m.\u001b[39mIsZombie():\n\u001b[0;32m---> 79\u001b[0m         \u001b[38;5;28;01mraise\u001b[39;00m \u001b[38;5;167;01mOSError\u001b[39;00m(\u001b[38;5;124m'\u001b[39m\u001b[38;5;124mFailed to open file \u001b[39m\u001b[38;5;132;01m{}\u001b[39;00m\u001b[38;5;124m'\u001b[39m\u001b[38;5;241m.\u001b[39mformat(args[\u001b[38;5;241m0\u001b[39m]))\n",
      "\u001b[0;31mOSError\u001b[0m: Failed to open file Run2012BC_DoubleMuParked_Muons.root"
     ]
    },
    {
     "name": "stderr",
     "output_type": "stream",
     "text": [
      "Error in <TFile::TFile>: file /home/soumojit-/Downloads/Run2012BC_DoubleMuParked_Muons.root does not exist\n"
     ]
    }
   ],
   "source": [
    "from ROOT import TFile, TH1D\n",
    "\n",
    "file = TFile(\"Run2012BC_DoubleMuParked_Muons.root\",\"READ\")\n",
    "tree = file.Get(\"Events\")   # Access the TTree named \"Events\"\n",
    "\n",
    "Hist = TH1D('h','h', 30000, 0.25, 160)\n",
    "\n",
    "print(type(file))\n",
    "print(type(tree))\n",
    "print(type(Hist))\n",
    "\n",
    "# Get total number of events in the TTree\n",
    "print(\"\\nTotal number of entries in the tree is\",tree.GetEntries()) # \\n is for new line"
   ]
  },
  {
   "cell_type": "markdown",
   "id": "d4acacfb",
   "metadata": {},
   "source": [
    "`TFile` is a ROOT object used to open ROOT files. `\"READ\"` mode means you are opening the file just to read its contents, not to modify it. \n",
    "\n",
    "#### Significance:\n",
    "\n",
    "- You cannot accidentally overwrite or delete data in the ROOT file. Useful when analyzing large datasets where integrity is crucial.\n",
    "- Faster for reading. ROOT optimizes read-only access because it doesn't need to allocate resources for writing or updating objects.\n",
    "- Operations allowed in read-only mode. You can read trees, histograms, and other objects.\n",
    "\n",
    "`file` now represents the opened ROOT **TFile**, which can contain trees, histograms, and other objects. `Get(\"Events\")` retrieves **TTree** object named \"Events\" from the ROOT file. And it is stored in `tree` variable containing all the events.\n",
    "\n",
    "```cpp\n",
    "Hist = TH1D('h','h', 30000, 0.25, 160)\n",
    "```\n",
    "\n",
    "A new Histogram is created. This histogram \"Hist\" is empty at first and can be filled with data from the TTree. Histogram's name and title is `'h'`. Number of bins are $30000$. And $(0.25, 160)$ are lower and upper bound of the histogram. `tree.GetEntries()` returns the total number of entries (rows) in the TTree.\n",
    "\n",
    "These outputs confirm that your objects are indeed ROOT objects/classes (`TFile`, `TTree`, `TH1D`) stored in respective pointers and is accessible in Python via PyROOT/cppyy. Here `cppyy` is a **Python-C++** binding library. It allows Python code to directly access C++ classes, functions, and objects as if they were native Python objects. ROOT is primarily written in C++, so cppyy is the bridge that lets Python use ROOT classes seamlessly. `cppyy.gbl` stands for Global C++ namespace."
   ]
  },
  {
   "cell_type": "code",
   "execution_count": 3,
   "id": "03c7b584",
   "metadata": {},
   "outputs": [
    {
     "name": "stdout",
     "output_type": "stream",
     "text": [
      "nMuon\n",
      "Muon_pt\n",
      "Muon_eta\n",
      "Muon_phi\n",
      "Muon_mass\n",
      "Muon_charge\n"
     ]
    }
   ],
   "source": [
    "# Function to print all leaves in the tree\n",
    "def print_leaves(tree):\n",
    "    for branch in tree.GetListOfBranches():\n",
    "        print(branch.GetName())\n",
    "\n",
    "# Print the leaves\n",
    "print_leaves(tree)"
   ]
  },
  {
   "cell_type": "markdown",
   "id": "4413be13",
   "metadata": {},
   "source": [
    "The function `print_leaves` loops over all branches and prints their names. Each **TTree** is made up of **Branches** (think of them like columns in a table). Each branch can contain one or more **Leaves** (actual variable like the numbers inside that column).\n",
    "\n",
    "`tree.GetListOfBranches()` returns all branches in the tree. And `branch.GetName()` gets the name of each branch."
   ]
  },
  {
   "cell_type": "code",
   "execution_count": 4,
   "id": "bb3a0527",
   "metadata": {},
   "outputs": [
    {
     "name": "stdout",
     "output_type": "stream",
     "text": [
      "======> EVENT:12500\n",
      " nMuon           = 2\n",
      " Muon_pt         = 14.7748, \n",
      "                  3.48163\n",
      " Muon_eta        = 1.36514, \n",
      "                  -0.251159\n",
      " Muon_phi        = 0.12591, \n",
      "                  2.57296\n",
      " Muon_mass       = 0.105658, \n",
      "                  0.105658\n",
      " Muon_charge     = 1, \n",
      "                  -1\n"
     ]
    }
   ],
   "source": [
    "tree.Show(12500)  # Show the content of the 12500th entry"
   ]
  },
  {
   "cell_type": "code",
   "execution_count": 5,
   "id": "8dee48d1",
   "metadata": {},
   "outputs": [
    {
     "name": "stdout",
     "output_type": "stream",
     "text": [
      "Number of events selected is 30770206\n"
     ]
    }
   ],
   "source": [
    "percent = 50  # percentage of events to process\n",
    "n = int(percent*(tree.GetEntries())/100)\n",
    "print(\"Number of events selected is\", n)"
   ]
  },
  {
   "cell_type": "markdown",
   "id": "b814a9b0",
   "metadata": {},
   "source": [
    " Let take `percent = 10`. So, out of total $61540413$ entries, it will only analyze the first $6154041$ events."
   ]
  },
  {
   "cell_type": "code",
   "execution_count": 6,
   "id": "997b3356",
   "metadata": {},
   "outputs": [],
   "source": [
    "# Create numpy arrays to hold the 3-momentum components of the two muons\n",
    "m1 = np.zeros((2*n, 3)) # For muon 1\n",
    "m2 = np.zeros((2*n, 3)) # For muon 2"
   ]
  },
  {
   "cell_type": "markdown",
   "id": "ae6c51a7",
   "metadata": {},
   "source": [
    "- `np.zeros((shape))` $\\rightarrow$ This creates a NumPy array filled with zeros. The argument `(2*n, 3)` specifies the shape of the array.\n",
    "\n",
    "- `(2*n, 3)` $\\rightarrow$ The array will have: $(2n)$ rows and $3$ columns. So it’s basically a matrix with $2n$ rows and $3$ columns, all initialized with $0$. For example: if $n=2$ then it is a matrix of dimension $(4 \\times 3)$, with all elements $0$.\n",
    "\n",
    "- `m1` and `m2` are two independent arrays of the same size. Both start filled with zeros, but later in your analysis you’ll probably store event data (like momentum components, energies, etc.) in them, separately for two muons."
   ]
  },
  {
   "cell_type": "code",
   "execution_count": 7,
   "id": "f8a80893",
   "metadata": {},
   "outputs": [
    {
     "name": "stdout",
     "output_type": "stream",
     "text": [
      "Processing:  500000 th event!\n",
      "Processing:  1000000 th event!\n",
      "Processing:  1500000 th event!\n",
      "Processing:  2000000 th event!\n",
      "Processing:  2500000 th event!\n",
      "Processing:  3000000 th event!\n",
      "Processing:  3500000 th event!\n",
      "Processing:  4000000 th event!\n",
      "Processing:  4500000 th event!\n",
      "Processing:  5000000 th event!\n",
      "Processing:  5500000 th event!\n",
      "Processing:  6000000 th event!\n",
      "Processing:  6500000 th event!\n",
      "Processing:  7000000 th event!\n",
      "Processing:  7500000 th event!\n",
      "Processing:  8000000 th event!\n",
      "Processing:  8500000 th event!\n",
      "Processing:  9000000 th event!\n",
      "Processing:  9500000 th event!\n",
      "Processing:  10000000 th event!\n",
      "Processing:  10500000 th event!\n",
      "Processing:  11000000 th event!\n",
      "Processing:  11500000 th event!\n",
      "Processing:  12000000 th event!\n",
      "Processing:  12500000 th event!\n",
      "Processing:  13000000 th event!\n",
      "Processing:  13500000 th event!\n",
      "Processing:  14000000 th event!\n",
      "Processing:  14500000 th event!\n",
      "Processing:  15000000 th event!\n",
      "Processing:  15500000 th event!\n",
      "Processing:  16000000 th event!\n",
      "Processing:  16500000 th event!\n",
      "Processing:  17000000 th event!\n",
      "Processing:  17500000 th event!\n",
      "Processing:  18000000 th event!\n",
      "Processing:  18500000 th event!\n",
      "Processing:  19000000 th event!\n",
      "Processing:  19500000 th event!\n",
      "Processing:  20000000 th event!\n",
      "Processing:  20500000 th event!\n",
      "Processing:  21000000 th event!\n",
      "Processing:  21500000 th event!\n",
      "Processing:  22000000 th event!\n",
      "Processing:  22500000 th event!\n",
      "Processing:  23000000 th event!\n",
      "Processing:  23500000 th event!\n",
      "Processing:  24000000 th event!\n",
      "Processing:  24500000 th event!\n",
      "Processing:  25000000 th event!\n",
      "Processing:  25500000 th event!\n",
      "Processing:  26000000 th event!\n",
      "Processing:  26500000 th event!\n",
      "Processing:  27000000 th event!\n",
      "Processing:  27500000 th event!\n",
      "Processing:  28000000 th event!\n",
      "Processing:  28500000 th event!\n",
      "Processing:  29000000 th event!\n",
      "Processing:  29500000 th event!\n",
      "Processing:  30000000 th event!\n",
      "Processing:  30500000 th event!\n",
      "Loop is completed\n",
      "Time taken for processing 30770206 events is 2778.36674284935 seconds\n"
     ]
    }
   ],
   "source": [
    "from ROOT import TLorentzVector # Import TLorentzVector class from ROOT\n",
    "import time\n",
    "\n",
    "# Start the timer\n",
    "start = time.time()\n",
    "\n",
    "# Loop over events in the tree\n",
    "for i, ent in enumerate(tree):\n",
    "    if i>n:\n",
    "        break;\n",
    "    if (i > 0 and i % 500000 == 0):\n",
    "        print(\"Processing: \", i, \"th event!\")\n",
    "    \n",
    "    # Extract muon information\n",
    "    charge = np.array(ent.Muon_charge)\n",
    "    number = np.array(ent.nMuon)\n",
    "    \n",
    "    # Select only events with exactly 2 opposite-charge muons\n",
    "    if len(charge) == 2 and number == 2 and (charge[0] + charge[1] == 0):\n",
    "        \n",
    "        pt = list(ent.Muon_pt)\n",
    "        eta = list(ent.Muon_eta)\n",
    "        phi = list(ent.Muon_phi)\n",
    "        mass = list(ent.Muon_mass)\n",
    "        \n",
    "        # First muon 4-vector\n",
    "        LV1 = TLorentzVector()\n",
    "        LV1.SetPtEtaPhiM(pt[0], eta[0], phi[0], mass[0])\n",
    "\n",
    "        # Second muon 4-vector\n",
    "        LV2 = TLorentzVector()\n",
    "        LV2.SetPtEtaPhiM(pt[1], eta[1], phi[1], mass[1])\n",
    "\n",
    "        # Store momentum components in arrays\n",
    "        m1[i][0] = LV1.Px()\n",
    "        m1[i][1] = LV1.Py()\n",
    "        m1[i][2] = LV1.Pz()\n",
    "        \n",
    "        m2[i][0] = LV2.Px()\n",
    "        m2[i][1] = LV2.Py()\n",
    "        m2[i][2] = LV2.Pz() \n",
    "\n",
    "        # Calculate combined 4-vector and invariant mass\n",
    "        LVT = LV1 + LV2\n",
    "        mass = LVT.M()\n",
    "        Hist.Fill(mass)\n",
    "\n",
    "print (\"Loop is completed\")\n",
    "end = time.time()\n",
    "\n",
    "# Stop the timer and print the elapsed time\n",
    "print(\"Time taken for processing\", n, \"events is\", end-start, \"seconds\")"
   ]
  },
  {
   "cell_type": "markdown",
   "id": "c6b99447",
   "metadata": {},
   "source": [
    "## Explanation\n",
    "### Timing\n",
    "\n",
    "```cpp\n",
    "start = time.time()\n",
    "end = time.time()\n",
    "```\n",
    "\n",
    "Here you are using the **time** module in Python. `time.time()` returns the current time in seconds since the Unix epoch $(\\text{Jan } 1, 1970, 00:00:00 \\text{ UTC})$. You store that value in the variable `start`. It’s a **timestamp** marking the moment your loop starts. Later, after the loop finishes, you take another timestamp `end`. Then you calculate:\n",
    "\n",
    "```cpp\n",
    "print(end - start)\n",
    "```\n",
    "which gives the total runtime of your code in seconds. Thus, you can measure how long the loop takes."
   ]
  },
  {
   "cell_type": "markdown",
   "id": "bcaca75b",
   "metadata": {},
   "source": [
    "### Loop Over Events\n",
    "```cpp\n",
    "for i, ent in enumerate(tree):\n",
    "    if i>n:\n",
    "        break;\n",
    "    if (i > 0 and i % 100000 == 0):\n",
    "        print(\"Processing: \", i, \"th event!\")\n",
    "```\n",
    "- `for i, ent in enumerate(tree)` $\\rightarrow$ `tree` is your TTree (here: \"Events\"). And `enumerate(tree)` allows you to loop through all events, while also keeping track of the index `(i)`. So, $\\text{i}$ is event number $(0, 1, 2, …)$. And `ent` is the actual entry in the tree (an event object that holds branches like Muon_pt, Muon_eta, etc.). So, each iteration gives you one event and its index.\n",
    "\n",
    "- `if i > n: break` $\\rightarrow$ $\\text{n}$ is the number of events you decided to process. This ensures you don’t read the whole dataset, just the first $\\text{n}$ events. When the loop index $\\text{i}$ exceeds $\\text{n, }$ the loop stops immediately.\n",
    "\n",
    "- `if (i > 0 and i % 100000 == 0):` $\\rightarrow$ This is a progress checkpoint. `i % 100000 == 0` means **“every $100,000$ th event”**. So, whenever you hit event $100000$, $200000$, $300000$, etc., the condition becomes true.\n",
    "\n",
    "- `print(\"Processing: \", i, \"th event!\")` $\\rightarrow$ When the checkpoint condition is true, you print a message like:\n",
    "```cpp\n",
    "Processing:  100000 th event!\n",
    "Processing:  200000 th event!\n",
    "```\n",
    "This helps track progress for large datasets so you know the code hasn’t frozen."
   ]
  },
  {
   "cell_type": "markdown",
   "id": "07d64c13",
   "metadata": {},
   "source": [
    "### Muon Charge and Multiplicity Checks\n",
    "```cpp\n",
    "charge = np.array(ent.Muon_charge)\n",
    "number = np.array(ent.nMuon)\n",
    "```\n",
    "- `ent.Muon_charge` $\\rightarrow$ This is a branch that contains the charges of all muons in the event $(\\text{e.g., } [+1, -1], [+1, +1], \\text{etc.})$. Converted into a numpy array `charge` for easier manipulation.\n",
    "\n",
    "- `ent.nMuon` $\\rightarrow$ This branch stores the number of muons in the event. Converted into numpy array `number`, but since `nMuon` is just a single integer, it will look like 2, 3, etc.\n",
    "\n",
    "```cpp\n",
    "if len(charge) == 2 and number == 2 and (charge[0] + charge[1] == 0):\n",
    "```\n",
    "- `len(charge) == 2` $\\rightarrow$ Means the list of muon charges has exactly 2 entries. So the event has 2 reconstructed muons.\n",
    "- `number == 2` $\\rightarrow$ Double check the branch `nMuon` (official muon count stored in the dataset) must also be 2. This redundancy is often used to ensure data consistency.\n",
    "-  `(charge[0] + charge[1] == 0)` $\\rightarrow$ Adds the charge of the first and second muon. If they are opposite charges $(+1, −1)$, the sum is $0$, and the condition is true. If they are the same sign $(+1, +1)$, or $(−1, −1)$, the sum is $+2$ or $-2$, and the condition fails.\n",
    "\n",
    "This condition keeps only **di-muon** events where, exactly 2 muons of opposite charge exist. And only those events satisfying this condition is selected."
   ]
  },
  {
   "cell_type": "markdown",
   "id": "adee9ac6",
   "metadata": {},
   "source": [
    "### Get Kinematics\n",
    "```cpp\n",
    "pt   = list(ent.Muon_pt)    # transverse momentum\n",
    "eta  = list(ent.Muon_eta)   # pseudorapidity\n",
    "phi  = list(ent.Muon_phi)   # azimuthal angle\n",
    "mass = list(ent.Muon_mass)  # rest mass\n",
    "```\n",
    "\n",
    "- `ent.Muon_pt` $\\rightarrow$ It is a branch that stores the **transverse momentum** $(p_T)$​ of each muon in the event. For example, $(45.2, 38.7 \\text{ GeV})$. It’s converted into a Python list so you can easily index like `pt[0], pt[1]`.\n",
    "- `ent.Muon_eta` $\\rightarrow$ Gives the **pseudorapidity** ($\\eta$) of each muon. And $\\eta$ is a coordinate defined in terms of polar angle $\\theta$ relative to the beam axis as:\n",
    "\n",
    "$$ \\eta = -\\ln \\left( \\tan \\frac{\\theta}{2} \\right)$$\n",
    "\n",
    "- `ent.Muon_phi` $\\rightarrow$ Gives the **azimuthal angle** ($\\phi$) of each muon in the transverse plane. usually $(-\\pi \\leq \\phi < \\pi)$. It tells you the direction of the muon around the beamline.\n",
    "- `ent.Muon_mass` $\\rightarrow$ Gives the **rest mass** of the muons. For real muons, the mass is about $105.7 \\text{ MeV}/c^2$.  \n",
    "\n",
    "So, converts the branches into Python lists so you can index them easily. In reconstructed events, the software stores this as part of the muon 4-vector information."
   ]
  },
  {
   "cell_type": "markdown",
   "id": "0c34bef2",
   "metadata": {},
   "source": [
    "### Build Lorentz Vectors\n",
    "```cpp\n",
    "LV1 = TLorentzVector()\n",
    "LV1.SetPtEtaPhiM(pt[0], eta[0], phi[0], mass[0])\n",
    "```\n",
    "- `LV1 = TLorentzVector()` $\\rightarrow$ Creates an empty **Lorentz 4-vector** object (from ROOT’s `TLorentzVector` class). A 4-vector in relativity has components: $(E, \\, p_x, \\, p_y, \\, p_z)$, where $E$ is the energy and $\\vec{p}$ is the 3-momentum.\n",
    "- `LV1.SetPtEtaPhiM(pt[0], eta[0], phi[0], mass[0])` $\\rightarrow$ This fills the Lorentz vector using the standard HEP coordinates: $(p_T, \\, \\eta, \\, \\phi, \\, m)$.\n",
    "\n",
    "Internally, ROOT converts these into the Cartesian form:\n",
    "$$\n",
    "(p_T, \\, \\eta, \\, \\phi, \\, m) \\;\\;\\longrightarrow\\;\\; \\text{4-vector: } (E, \\, p_x, \\, p_y, \\, p_z)\n",
    "$$\n",
    "\n",
    "```cpp\n",
    "m1[i][0] = LV1.Px()\n",
    "m1[i][1] = LV1.Py()\n",
    "m1[i][2] = LV1.Pz()\n",
    "```\n",
    "- `LV1.Px()`, `LV1.Py()`, `LV1.Pz()` $\\rightarrow$ ROOT provides methods for **Lorentz vector** `LV1` to get its Cartesian components by `.Px()` as $(p_x = p_T \\cos \\phi)$, for first Muon. Similarly with `.Py()` and `.Pz()`.\n",
    "\n",
    "$$\n",
    "\\begin{aligned}\n",
    "p_x &= p_T \\cos \\phi \\\\\n",
    "p_y &= p_T \\sin \\phi \\\\\n",
    "p_z &= p_T \\sinh(\\eta) \\\\\n",
    "E   &= \\sqrt{p_T^2 \\cosh^2(\\eta) + m^2}\n",
    "\\end{aligned}\n",
    "$$\n",
    "\n",
    "- `m1[i][0], m1[i][1], m1[i][2]` $\\rightarrow$ This means: `m1` has **$2n$ rows** (because there are 2 muons per event $\\times \\, n$ events). Each row has **3 columns**, one for $p_x, p_y, p_z$. For the $\\text{i}$-th event, you are saving the first muon’s momentum components:  \n",
    "  - Column $0$ $\\rightarrow$ $p_x$  \n",
    "  - Column $1$ $\\rightarrow$ $p_y$  \n",
    "  - Column $2$ $\\rightarrow$ $p_z$\n",
    "\n",
    "You are transferring the muon’s momentum information from ROOT into a numpy structure. So after this call, `LV1` now fully represents the 4-momentum of the first muon in the event. Similairy, `Lv2` for second muon."
   ]
  },
  {
   "cell_type": "markdown",
   "id": "88ff8906",
   "metadata": {},
   "source": [
    "### Calculate the Invarient Mass\n",
    "```cpp\n",
    "LVT = LV1 + LV2\n",
    "mass = LVT.M()\n",
    "Hist.Fill(mass)\n",
    "```\n",
    "- `LVT = LV1 + LV2` $\\rightarrow$ So, `LV1` and `LV2` are the Lorentz 4-vectors of the two muons in the event. Adding them gives the combined 4-vector: $\\mu_1^\\mu + \\mu_2^\\mu$. So `LVT` is the total 4-momentum of the pair.\n",
    "- `mass = LVT.M()` $\\rightarrow$ `M()` is a ROOT method that calculates the **invariant mass** of a 4-vector. Since `LVT` is the sum of the two muons’ 4-vectors, `LVT.M()` gives the dimuon invariant mass. This is exactly the quantity you’re interested in to find resonances (like the $Z$ boson peak near $91 \\,\\text{GeV}$).\n",
    "\n",
    "$$M^2 = E^2 - |\\vec{p}|^2$$\n",
    "\n",
    "- `Hist.Fill(mass)` $\\rightarrow$ Takes the calculated dimuon invariant mass and increments the bin that corresponds to that value. By looping over all events, you build up a distribution of invariant masses which should show a peak around the resonances."
   ]
  },
  {
   "cell_type": "code",
   "execution_count": 8,
   "id": "afc73611",
   "metadata": {},
   "outputs": [
    {
     "data": {
      "text/plain": [
       "array([[ 0.        ,  0.        ,  0.        ],\n",
       "       [10.14310332, -2.85958612, -4.64691517],\n",
       "       [ 0.        ,  0.        ,  0.        ],\n",
       "       ...,\n",
       "       [ 0.        ,  0.        ,  0.        ],\n",
       "       [ 0.        ,  0.        ,  0.        ],\n",
       "       [ 0.        ,  0.        ,  0.        ]], shape=(61540412, 3))"
      ]
     },
     "execution_count": 8,
     "metadata": {},
     "output_type": "execute_result"
    }
   ],
   "source": [
    "m1"
   ]
  },
  {
   "cell_type": "code",
   "execution_count": 9,
   "id": "dd44ef0f",
   "metadata": {},
   "outputs": [
    {
     "data": {
      "text/plain": [
       "array([[  0.        ,   0.        ,   0.        ],\n",
       "       [-13.45861397,   9.24336543,   5.8184379 ],\n",
       "       [  0.        ,   0.        ,   0.        ],\n",
       "       ...,\n",
       "       [  0.        ,   0.        ,   0.        ],\n",
       "       [  0.        ,   0.        ,   0.        ],\n",
       "       [  0.        ,   0.        ,   0.        ]], shape=(61540412, 3))"
      ]
     },
     "execution_count": 9,
     "metadata": {},
     "output_type": "execute_result"
    }
   ],
   "source": [
    "m2"
   ]
  },
  {
   "cell_type": "code",
   "execution_count": 10,
   "id": "618fbf75",
   "metadata": {},
   "outputs": [
    {
     "data": {
      "text/plain": [
       "array([[ 0.        ,  0.        ,  0.        ],\n",
       "       [10.14310332, -2.85958612, -4.64691517],\n",
       "       [ 0.        ,  0.        ,  0.        ],\n",
       "       ...,\n",
       "       [ 0.        ,  0.        ,  0.        ],\n",
       "       [ 0.        ,  0.        ,  0.        ],\n",
       "       [ 0.        ,  0.        ,  0.        ]], shape=(123080824, 3))"
      ]
     },
     "execution_count": 10,
     "metadata": {},
     "output_type": "execute_result"
    }
   ],
   "source": [
    "m1m2 = np.vstack((m1, m2))\n",
    "m1m2"
   ]
  },
  {
   "cell_type": "markdown",
   "id": "0f0f416b",
   "metadata": {},
   "source": [
    "Now, `m1` stores the 3-momentum ($p_x, \\, p_y, \\, p_z$) of the first muon in each event, `m2` stores the 3-momentum of the second muon in each event. So after the event loop, you have two separate NumPy arrays.\n",
    "\n",
    "`np.vstack` means “vertical stack” in NumPy. It takes two arrays and stacks them row-wise (one on top of the other). `m1` has shape $(2n, 3)$. `m2` has shape $(2n, 3)$. After stacking `m1m2` has shape $(4n, 3)$.\n",
    "\n",
    "`m1m2` is just a single combined array of muon momentum components: The first $2n$ rows contain momenta from 'm1' (first muon of each event). And the next $2n$ rows contain momenta from 'm2' (second muon of each event). So instead of keeping two separate containers, now you have all muons’ 3-momenta together in one big matrix."
   ]
  },
  {
   "cell_type": "markdown",
   "id": "d9b2cc96",
   "metadata": {},
   "source": [
    "## Viewing the Four Momentum"
   ]
  },
  {
   "cell_type": "code",
   "execution_count": 11,
   "id": "7bfce4f0",
   "metadata": {},
   "outputs": [
    {
     "name": "stdout",
     "output_type": "stream",
     "text": [
      "Muon 1:\n",
      "  Px = -6.613884075296045\n",
      "  Py = 5.392224089836168\n",
      "  Pz = 7.39200086673741\n",
      "  E  = 11.290366854132163\n",
      "Muon 2:\n",
      "  Px = -14.167305287011093\n",
      "  Py = 11.46780781617979\n",
      "  Pz = 16.507223149313972\n",
      "  E  = 24.591110893898822\n"
     ]
    }
   ],
   "source": [
    "# Print full 4-vector of muon 1\n",
    "print(\"Muon 1:\") \n",
    "print(\"  Px =\", LV1.Px())\n",
    "print(\"  Py =\", LV1.Py())\n",
    "print(\"  Pz =\", LV1.Pz())\n",
    "print(\"  E  =\", LV1.E())\n",
    "\n",
    "# Print full 4-vector of muon 2\n",
    "print(\"Muon 2:\")\n",
    "print(\"  Px =\", LV2.Px())\n",
    "print(\"  Py =\", LV2.Py())\n",
    "print(\"  Pz =\", LV2.Pz())\n",
    "print(\"  E  =\", LV2.E())"
   ]
  },
  {
   "cell_type": "markdown",
   "id": "4dcbf358",
   "metadata": {},
   "source": [
    "This prints the four momentum components of the two muons for the current event (maybe the last event from the `n`th entries)."
   ]
  },
  {
   "cell_type": "code",
   "execution_count": 12,
   "id": "2c953cf8",
   "metadata": {},
   "outputs": [
    {
     "name": "stdout",
     "output_type": "stream",
     "text": [
      "Muon pair invariant mass =  0.43477537774366537  GeV\n",
      "Resonance candidate 4-vector:\n",
      "  Px = -20.78118936230714\n",
      "  Py = 16.86003190601596\n",
      "  Pz = 23.899224016051384\n",
      "  E  = 35.88147774803099\n"
     ]
    }
   ],
   "source": [
    "# Print details\n",
    "print(\"Muon pair invariant mass = \", mass, \" GeV\")\n",
    "\n",
    "# Also print 4-vector components if needed\n",
    "print(\"Resonance candidate 4-vector:\")\n",
    "print(\"  Px =\", LVT.Px())\n",
    "print(\"  Py =\", LVT.Py())\n",
    "print(\"  Pz =\", LVT.Pz())\n",
    "print(\"  E  =\", LVT.E())"
   ]
  },
  {
   "cell_type": "markdown",
   "id": "d5167393",
   "metadata": {},
   "source": [
    "## Plotting the Mass Spectrum\n",
    "This prints the four momentum components of the invarient dimuon of current event. And also prints the invarient mass of the dimuon event."
   ]
  },
  {
   "cell_type": "code",
   "execution_count": 1,
   "id": "4812f991",
   "metadata": {},
   "outputs": [
    {
     "ename": "NameError",
     "evalue": "name 'Hist' is not defined",
     "output_type": "error",
     "traceback": [
      "\u001b[0;31m---------------------------------------------------------------------------\u001b[0m",
      "\u001b[0;31mNameError\u001b[0m                                 Traceback (most recent call last)",
      "Cell \u001b[0;32mIn[1], line 12\u001b[0m\n\u001b[1;32m      9\u001b[0m canvas\u001b[38;5;241m.\u001b[39mSetLogx(); canvas\u001b[38;5;241m.\u001b[39mSetLogy()\n\u001b[1;32m     11\u001b[0m \u001b[38;5;66;03m# Draw histogram\u001b[39;00m\n\u001b[0;32m---> 12\u001b[0m \u001b[43mHist\u001b[49m\u001b[38;5;241m.\u001b[39mSetTitle(\u001b[38;5;124m\"\u001b[39m\u001b[38;5;124mInvarient Mass of Muon Pairs\u001b[39m\u001b[38;5;124m\"\u001b[39m)\n\u001b[1;32m     13\u001b[0m Hist\u001b[38;5;241m.\u001b[39mGetXaxis()\u001b[38;5;241m.\u001b[39mSetTitleSize(\u001b[38;5;241m0.03\u001b[39m)\n\u001b[1;32m     14\u001b[0m Hist\u001b[38;5;241m.\u001b[39mGetXaxis()\u001b[38;5;241m.\u001b[39mSetTitle(\u001b[38;5;124m\"\u001b[39m\u001b[38;5;124m[GeV]\u001b[39m\u001b[38;5;124m\"\u001b[39m)\n",
      "\u001b[0;31mNameError\u001b[0m: name 'Hist' is not defined"
     ]
    }
   ],
   "source": [
    "from ROOT import gStyle, TCanvas, TLatex\n",
    "\n",
    "# Produce plot\n",
    "gStyle.SetOptStat(0)\n",
    "gStyle.SetTextFont(42)\n",
    "\n",
    "# Create canvas\n",
    "canvas = TCanvas(\"c1\", \"\", 1200, 700)\n",
    "canvas.SetLogx(); canvas.SetLogy()\n",
    "\n",
    "# Draw histogram\n",
    "Hist.SetTitle(\"Invarient Mass of Muon Pairs\")\n",
    "Hist.GetXaxis().SetTitleSize(0.03)\n",
    "Hist.GetXaxis().SetTitle(\"[GeV]\")\n",
    "Hist.GetYaxis().SetTitleSize(0.03)\n",
    "Hist.GetYaxis().SetTitle(\"Muon Events\")\n",
    "Hist.Draw()\n",
    "\n",
    "# Add resonance labels\n",
    "label = TLatex()\n",
    "label.SetNDC(True) # Normalized Device Coordinates\n",
    "label.SetTextSize(0.040)\n",
    "label.DrawLatex(0.225, 0.750, \"#rho,#omega\")\n",
    "label.DrawLatex(0.268, 0.760, \"#phi\")\n",
    "label.DrawLatex(0.400, 0.865, \"J/#psi\")\n",
    "label.DrawLatex(0.425, 0.690, \"#psi'\")\n",
    "label.DrawLatex(0.543, 0.670, \"#Upsilon(1,2,3)\")\n",
    "label.DrawLatex(0.825, 0.650, \"Z\")\n",
    "\n",
    "# CMS style text\n",
    "label.SetTextSize(0.040)\n",
    "label.DrawLatex(0.655, 0.850, \"#sqrt{s} = 8 TeV, L_{int} = 11.6 fb^{-1}\")\n",
    "\n",
    "canvas.Draw()"
   ]
  },
  {
   "cell_type": "markdown",
   "id": "3896470b",
   "metadata": {},
   "source": [
    "## Conclusion \n",
    "In the dimuon invariant mass histogram, each peak corresponds to a different particle resonance that can decay into a muon–antimuon pair:\n",
    "\n",
    "<div align=\"center\">\n",
    "\n",
    "| Peak | Mass (approx) | Meaning | Branching to $\\mu^+\\mu^-$ |\n",
    "|------|----------------|---------|----------------------------|\n",
    "| $\\eta$ | $0.55\\ \\text{GeV}$ | Eta meson $\\rightarrow \\mu^+\\mu^-$ (rare, mostly background) | $\\sim 5.8\\times 10^{-6}$ |\n",
    "| $\\rho/\\omega$ | $0.77/0.78\\ \\text{GeV}$ | Light vector mesons, occasional muon decays | $\\rho^0:\\ \\sim 4.6\\times 10^{-5}$; $\\omega:\\ \\sim 9\\times 10^{-5}$ |\n",
    "| $\\phi$ | $1.02\\ \\text{GeV}$ | Phi meson $\\rightarrow \\mu^+\\mu^-$ | $\\approx 2.9\\times 10^{-4}$ |\n",
    "| $J/\\psi$ | $3.10\\ \\text{GeV}$ | Charmonium, $\\bar{c}c \\rightarrow \\mu^+\\mu^-$ | $\\approx 5.96\\%$ |\n",
    "| $\\psi'$ | $3.68\\ \\text{GeV}$ | Excited charmonium $\\rightarrow \\mu^+\\mu^-$ | $\\sim 0.8\\%$ |\n",
    "| $\\Upsilon(1,2,3S)$ | $9.46/10.02/10.36\\ \\text{GeV}$ | Bottomonium states $\\rightarrow \\mu^+\\mu^-$ | $1S:\\ \\approx 2.49\\%$; $2S:\\ \\approx 2.03\\%$; $3S:\\ \\approx 2.18\\%$ |\n",
    "| $Z$ | $91\\ \\text{GeV}$ | $Z$ boson $\\rightarrow \\mu^+\\mu^-$ | $\\approx 3.37\\%$ |\n",
    "\n",
    "</div>\n",
    "\n",
    "The dataset contains muons from many different resonances, not just $Z$ bosons. That’s why in the histogram you see multiple peaks at low mass $(0.5–10 \\text{ GeV})$ and the large $Z$ peak at $91 \\text{ GeV}$. Low-mass peaks are usually mesons produced in hadronic collisions or through secondary decays. The $Z$ peak dominates at high mass because it is a primary electroweak process at $8 \\text{ TeV}$ collisions.\n"
   ]
  }
 ],
 "metadata": {
  "kernelspec": {
   "display_name": "pyrootenv",
   "language": "python",
   "name": "python3"
  },
  "language_info": {
   "codemirror_mode": {
    "name": "ipython",
    "version": 3
   },
   "file_extension": ".py",
   "mimetype": "text/x-python",
   "name": "python",
   "nbconvert_exporter": "python",
   "pygments_lexer": "ipython3",
   "version": "3.10.18"
  }
 },
 "nbformat": 4,
 "nbformat_minor": 5
}
